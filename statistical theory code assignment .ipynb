{
 "cells": [
  {
   "cell_type": "code",
   "execution_count": 1,
   "id": "9b5e5fc6-f275-4e9f-a065-874b201de48c",
   "metadata": {},
   "outputs": [],
   "source": [
    "import numpy as np\n",
    "import seaborn as sns\n",
    "import scipy.stats as stats\n",
    "import matplotlib.pyplot as plt\n",
    "import itertools\n",
    "import scipy.optimize as opt\n",
    "import pandas as pd\n",
    "%matplotlib inline"
   ]
  },
  {
   "cell_type": "markdown",
   "id": "efaa692f-c3bf-48bf-8f0b-73b1d778d241",
   "metadata": {},
   "source": [
    "#  Statistical Theory, code assignment "
   ]
  },
  {
   "cell_type": "markdown",
   "id": "3489f4f5-ffa4-4bcf-9276-372081221cb4",
   "metadata": {},
   "source": [
    "#  Agai Maor and B.Y."
   ]
  },
  {
   "cell_type": "markdown",
   "id": "5c75ae5f-c330-45ed-914f-b6832d6b03ff",
   "metadata": {},
   "source": [
    "# Assignment 1"
   ]
  },
  {
   "cell_type": "code",
   "execution_count": 2,
   "id": "1ecb979b-ba3f-4e67-a99b-8d0aea5054bc",
   "metadata": {},
   "outputs": [],
   "source": [
    "def random_pareto(n=1000):\n",
    "    \"\"\"this function creates an n-sized pareto disributed array\"\"\"\n",
    "    arr=(np.random.pareto(7, 1000) + 1) * 5\n",
    "    return arr"
   ]
  },
  {
   "cell_type": "code",
   "execution_count": 3,
   "id": "6431b27b-4f33-4ece-94f5-00648b5e0c4c",
   "metadata": {},
   "outputs": [
    {
     "data": {
      "text/plain": [
       "<AxesSubplot:ylabel='Count'>"
      ]
     },
     "execution_count": 3,
     "metadata": {},
     "output_type": "execute_result"
    },
    {
     "data": {
      "image/png": "[encoded data removed]",
      "text/plain": [
       "<Figure size 432x288 with 1 Axes>"
      ]
     },
     "metadata": {
      "needs_background": "light"
     },
     "output_type": "display_data"
    }
   ],
   "source": [
    "np.random.seed(0)\n",
    "arr=random_pareto()\n",
    "sns.histplot(arr)"
   ]
  },
  {
   "cell_type": "markdown",
   "id": "62a78058-cba9-4054-80ae-c908d4be046b",
   "metadata": {},
   "source": [
    "# Assignment 2"
   ]
  },
  {
   "cell_type": "code",
   "execution_count": 4,
   "id": "bc7b6673-d720-4c31-a569-74474078e926",
   "metadata": {},
   "outputs": [],
   "source": [
    "def single_sample_likelihood(x,a,xm=5):\n",
    "    \"\"\"this function calculates the pareto pdf for a given x,a variables\"\"\"\n",
    "    return (a*(xm**a))/(x**(a+1))  \n",
    "single_sample_likelihood_vec=np.vectorize(single_sample_likelihood) #using numpy vectorization for increased preformence"
   ]
  },
  {
   "cell_type": "code",
   "execution_count": 5,
   "id": "12942b3c-a65a-4e9c-932f-2451ac1e4d7e",
   "metadata": {},
   "outputs": [],
   "source": [
    "def total_log_likelihood(a,array,n=1000):\n",
    "    \"\"\"this method using the single sample likelihood function to calculate the likelihood of an entire given array\"\"\"\n",
    "    arr=single_sample_likelihood_vec(array,a)\n",
    "    return np.log(arr[arr!=0]).sum()                           #since the log likelihood is the sum of log of the pdf's of multiple x's \n",
    "total_log_likelihood_vec=np.vectorize(total_log_likelihood)#using numpy vectorization for increased preformence"
   ]
  },
  {
   "cell_type": "markdown",
   "id": "1f9b9e03-ec10-49d7-b378-bb20cc2c0272",
   "metadata": {},
   "source": [
    "# Assignment 3"
   ]
  },
  {
   "cell_type": "code",
   "execution_count": 6,
   "id": "8da5ea41-7696-46d4-9bfa-b504549c7835",
   "metadata": {},
   "outputs": [],
   "source": [
    "#at first we used the method below to aprroximate the maximum a-MLE which genrates \n",
    "#random uniformly disributed a's and find the argmax that gives the maximum likelihood\n",
    "#however, in the final results it preformed poorly so we changed it to an optimization approach\n",
    "\n",
    "#def max_log_likelihood_estimation(n=1000):\n",
    "#    \"\"\"\"\"\"this function calculates the maximum log likeihood\"\"\"\"\"\"\n",
    "#    alphas=np.random.uniform(0,10,30)                           #generating random alphas array\n",
    "#    randar=(np.random.pareto(7, n) + 1) * 5                      #generating xsample points\n",
    "#    y=np.array([total_log_likelihood(i,randar) for i in alphas])#evaluate the likelihood for every a in the array\n",
    "#    arg=np.argmax(y)                                            #find the position that gives the maximum likelihood \n",
    "#    return alphas[arg],y[arg]"
   ]
  },
  {
   "cell_type": "code",
   "execution_count": 7,
   "id": "7c9d19c3-fe20-4f4b-a242-71cec8974977",
   "metadata": {},
   "outputs": [],
   "source": [
    "#the function below finds the value for a that maximizes the value of the log likelihood\n",
    "def max_log_likelihood_estimation(n=1000):\n",
    "    randar=(np.random.pareto(7, n) + 1) * 5                      #generating sample points\n",
    "    max_x = opt.fminbound(lambda x: -total_log_likelihood(x,randar), 0, 10)#using optimizer to find the x (a) that maximizes the likelihood\n",
    "    return max_x ,total_log_likelihood(max_x,randar)"
   ]
  },
  {
   "cell_type": "code",
   "execution_count": 8,
   "id": "8bd20132-b9f8-47e1-8e6d-cf460e80e27d",
   "metadata": {},
   "outputs": [
    {
     "data": {
      "text/plain": [
       "6.566291187279322"
      ]
     },
     "execution_count": 8,
     "metadata": {},
     "output_type": "execute_result"
    }
   ],
   "source": [
    "#np.random.seed(0)\n",
    "x,y=max_log_likelihood_estimation()\n",
    "x"
   ]
  },
  {
   "cell_type": "code",
   "execution_count": 9,
   "id": "11cbcea9-ce76-4042-a363-ee614cb3fcda",
   "metadata": {},
   "outputs": [
    {
     "data": {
      "text/plain": [
       "<AxesSubplot:>"
      ]
     },
     "execution_count": 9,
     "metadata": {},
     "output_type": "execute_result"
    },
    {
     "data": {
      "image/png": "[encoded data removed]",
      "text/plain": [
       "<Figure size 432x288 with 1 Axes>"
      ]
     },
     "metadata": {
      "needs_background": "light"
     },
     "output_type": "display_data"
    }
   ],
   "source": [
    "#plotting the log likelihood function\n",
    "randar=(np.random.pareto(7, 1000) + 1) * 5\n",
    "x=np.linspace(1,30,50)\n",
    "y=np.array([total_log_likelihood(i,randar)for i in x])\n",
    "sns.scatterplot(x=x,y=y)"
   ]
  },
  {
   "cell_type": "markdown",
   "id": "b9b03788-fb7c-46aa-97b1-17a68504e9f9",
   "metadata": {},
   "source": [
    "# Assignment 4"
   ]
  },
  {
   "cell_type": "code",
   "execution_count": 10,
   "id": "58dc45f3-a777-4c31-8541-b3cb54b048ce",
   "metadata": {},
   "outputs": [],
   "source": [
    "def generate_MLEs(n=10000):\n",
    "    \"\"\"this method preforms 10K a-MLE for the pareto distribution\"\"\"\n",
    "    aMLE_arr=np.array([max_log_likelihood_estimation()[0] for _ in itertools.repeat(None,n)])\n",
    "    return aMLE_arr"
   ]
  },
  {
   "cell_type": "code",
   "execution_count": 11,
   "id": "5f34c444-10fe-4449-a8b6-b65c56a02f2b",
   "metadata": {},
   "outputs": [
    {
     "name": "stdout",
     "output_type": "stream",
     "text": [
      "7.007648337305143\n"
     ]
    },
    {
     "data": {
      "image/png": "[encoded data removed]",
      "text/plain": [
       "<Figure size 360x360 with 1 Axes>"
      ]
     },
     "metadata": {
      "needs_background": "light"
     },
     "output_type": "display_data"
    }
   ],
   "source": [
    "amle_array=generate_MLEs()\n",
    "sns.displot(x=amle_array,kind=\"kde\")\n",
    "print(amle_array.mean())"
   ]
  },
  {
   "cell_type": "code",
   "execution_count": 12,
   "id": "c0dbb168-03c7-4711-b528-a5395354e14c",
   "metadata": {},
   "outputs": [],
   "source": [
    "def confidence_interval95():\n",
    "    arr = (np.random.pareto(7, 10000) + 1) * 5\n",
    "    log_s= np.log(arr / 5).sum()                                                                    #where the log_s is chi2 disributed\n",
    "    return (stats.chi2.ppf(0.05/2,2*10000)/(2*log_s)),(stats.chi2.ppf(1-(0.05/2),2*10000)/(2*log_s)) "
   ]
  },
  {
   "cell_type": "code",
   "execution_count": 13,
   "id": "1d98d30c-8055-4649-bb76-5856c6656e9e",
   "metadata": {},
   "outputs": [],
   "source": [
    "conf_int95 =[confidence_interval95() for _ in range(100)]    \n",
    "#conf_int95                                               #uncomment to print intervals"
   ]
  },
  {
   "cell_type": "code",
   "execution_count": 14,
   "id": "7a71ec10-a981-43d0-880b-8d3a57b450f0",
   "metadata": {},
   "outputs": [],
   "source": [
    "def confidence_interval99():\n",
    "    arr = (np.random.pareto(7, 10000) + 1) * 5\n",
    "    log_s= np.log(arr / 5).sum()                                                                    #where the log_s is chi2 disributed\n",
    "    return (stats.chi2.ppf(0.01/2,2*10000)/(2*log_s)),(stats.chi2.ppf(1-(0.01/2),2*10000)/(2*log_s)) "
   ]
  },
  {
   "cell_type": "code",
   "execution_count": 15,
   "id": "627e1914-eb5d-444e-8654-5f2d4a9d9a69",
   "metadata": {},
   "outputs": [],
   "source": [
    "conf_int99 =[confidence_interval99() for _ in range(100)]    \n",
    "#conf_int99                                               #uncomment to print intervals"
   ]
  },
  {
   "cell_type": "code",
   "execution_count": 16,
   "id": "2e88b811-3de7-4dd7-9617-9ca6b4f2dd1f",
   "metadata": {},
   "outputs": [
    {
     "data": {
      "text/plain": [
       "<matplotlib.lines.Line2D at 0x1f013fc7460>"
      ]
     },
     "execution_count": 16,
     "metadata": {},
     "output_type": "execute_result"
    },
    {
     "data": {
      "image/png": "[encoded data removed]",
      "text/plain": [
       "<Figure size 640x800 with 1 Axes>"
      ]
     },
     "metadata": {
      "needs_background": "light"
     },
     "output_type": "display_data"
    }
   ],
   "source": [
    "plt.figure(figsize=(8, 10), dpi=80)\n",
    "CI95df=pd.DataFrame(conf_int95,columns=[\"Low\",\"High\"])\n",
    "CI95df[\"Include Alpha\"]=(CI95df[\"Low\"]<7)&(CI95df[\"High\"]>7)\n",
    "CI95df[\"Error\"]=(CI95df[\"High\"]-CI95df[\"Low\"])/2                       #in order to plot interval we plot simetrical distances across the interval mean\n",
    "CI95df[\"Mean\"]=(CI95df[\"High\"]+CI95df[\"Low\"])/2\n",
    "CI95df[\"Color\"]= np.where(CI95df['Include Alpha']==True, 'blue', 'red')\n",
    "plt.errorbar(x=CI95df[\"Mean\"],y=np.linspace(0,100,100),xerr=CI95df[\"Error\"],ecolor=CI95df[\"Color\"])\n",
    "plt.axvline(x = 7, color = 'black', linestyle = '-')"
   ]
  },
  {
   "cell_type": "markdown",
   "id": "64656f5b-35b9-4028-b78e-742eed128ce8",
   "metadata": {},
   "source": [
    "we can clearly see from the plot above that out of 100 interval 5 does not include the true alpha value\n",
    "\n",
    "this matching our need for 0.95 confidence interval"
   ]
  },
  {
   "cell_type": "markdown",
   "id": "d59fabb5-909f-434e-ac6b-adff3e4390c1",
   "metadata": {},
   "source": [
    "# Assignment 5"
   ]
  },
  {
   "cell_type": "markdown",
   "id": "8ec30eee-26fc-4172-895c-1ddcf6944616",
   "metadata": {},
   "source": [
    "looking at the expected value formula of the pareto distribution we can see it gets infinate values for some a values\n",
    "and finite for others"
   ]
  },
  {
   "attachments": {
    "51b7ca55-136e-4604-b69b-df02b24185ae.png": {
     "image/png": "[encoded data removed]"
    }
   },
   "cell_type": "markdown",
   "id": "933fbf48-d86b-4ac9-9d21-03f87f87f2c9",
   "metadata": {},
   "source": [
    "![image.png](attachment:51b7ca55-136e-4604-b69b-df02b24185ae.png)"
   ]
  },
  {
   "cell_type": "code",
   "execution_count": 17,
   "id": "977adae1-37e1-4490-92ea-b82dc110b656",
   "metadata": {},
   "outputs": [
    {
     "data": {
      "text/plain": [
       "54.99999999999995"
      ]
     },
     "execution_count": 17,
     "metadata": {},
     "output_type": "execute_result"
    }
   ],
   "source": [
    "#since a=1.1>1 we will calculate it for this value\n",
    "1.1*5/(1.1-1)"
   ]
  },
  {
   "cell_type": "code",
   "execution_count": 24,
   "id": "4ac01c5e-9265-42eb-8870-8b8ecc6bf849",
   "metadata": {},
   "outputs": [
    {
     "data": {
      "text/html": [
       "<div>\n",
       "<style scoped>\n",
       "    .dataframe tbody tr th:only-of-type {\n",
       "        vertical-align: middle;\n",
       "    }\n",
       "\n",
       "    .dataframe tbody tr th {\n",
       "        vertical-align: top;\n",
       "    }\n",
       "\n",
       "    .dataframe thead th {\n",
       "        text-align: right;\n",
       "    }\n",
       "</style>\n",
       "<table border=\"1\" class=\"dataframe\">\n",
       "  <thead>\n",
       "    <tr style=\"text-align: right;\">\n",
       "      <th></th>\n",
       "      <th>1</th>\n",
       "      <th>100</th>\n",
       "      <th>10000</th>\n",
       "      <th>1000000</th>\n",
       "      <th>100000000</th>\n",
       "    </tr>\n",
       "  </thead>\n",
       "  <tbody>\n",
       "    <tr>\n",
       "      <th>0</th>\n",
       "      <td>5.703207</td>\n",
       "      <td>24.717285</td>\n",
       "      <td>39.869497</td>\n",
       "      <td>41.941318</td>\n",
       "      <td>83.671720</td>\n",
       "    </tr>\n",
       "    <tr>\n",
       "      <th>1</th>\n",
       "      <td>50.087092</td>\n",
       "      <td>41.522579</td>\n",
       "      <td>128.840224</td>\n",
       "      <td>77.591554</td>\n",
       "      <td>44.455823</td>\n",
       "    </tr>\n",
       "    <tr>\n",
       "      <th>2</th>\n",
       "      <td>7.197584</td>\n",
       "      <td>20.128553</td>\n",
       "      <td>29.353688</td>\n",
       "      <td>39.449666</td>\n",
       "      <td>44.460974</td>\n",
       "    </tr>\n",
       "    <tr>\n",
       "      <th>3</th>\n",
       "      <td>5.611786</td>\n",
       "      <td>23.029836</td>\n",
       "      <td>28.551899</td>\n",
       "      <td>42.862755</td>\n",
       "      <td>44.019281</td>\n",
       "    </tr>\n",
       "    <tr>\n",
       "      <th>4</th>\n",
       "      <td>14.581717</td>\n",
       "      <td>15.640893</td>\n",
       "      <td>27.376080</td>\n",
       "      <td>39.448676</td>\n",
       "      <td>44.538553</td>\n",
       "    </tr>\n",
       "  </tbody>\n",
       "</table>\n",
       "</div>"
      ],
      "text/plain": [
       "   1          100         10000      1000000    100000000\n",
       "0   5.703207  24.717285   39.869497  41.941318  83.671720\n",
       "1  50.087092  41.522579  128.840224  77.591554  44.455823\n",
       "2   7.197584  20.128553   29.353688  39.449666  44.460974\n",
       "3   5.611786  23.029836   28.551899  42.862755  44.019281\n",
       "4  14.581717  15.640893   27.376080  39.448676  44.538553"
      ]
     },
     "execution_count": 24,
     "metadata": {},
     "output_type": "execute_result"
    }
   ],
   "source": [
    "a=1.1                               #setting alpha to 1.1\n",
    "N=[1,100,10000,1000000,100000000]\n",
    "sample_count=100\n",
    "data=pd.DataFrame()\n",
    "for sample_size in N:\n",
    "    temp_array=[]\n",
    "    for i in range(sample_count):\n",
    "        arr=(np.random.pareto(a, sample_size) + 1) * 5\n",
    "        temp_array.append(arr.sum()/len(arr))\n",
    "    data[sample_size]=pd.Series(temp_array)\n",
    "data.head()"
   ]
  },
  {
   "cell_type": "code",
   "execution_count": 29,
   "id": "e22c2870-0db5-4e2c-9e6c-0ff3fc6ffa15",
   "metadata": {},
   "outputs": [
    {
     "data": {
      "image/png": "[encoded data removed]",
      "text/plain": [
       "<Figure size 432x288 with 1 Axes>"
      ]
     },
     "metadata": {
      "needs_background": "light"
     },
     "output_type": "display_data"
    },
    {
     "data": {
      "image/png": "[encoded data removed]",
      "text/plain": [
       "<Figure size 432x288 with 1 Axes>"
      ]
     },
     "metadata": {
      "needs_background": "light"
     },
     "output_type": "display_data"
    },
    {
     "data": {
      "image/png": "[encoded data removed]",
      "text/plain": [
       "<Figure size 432x288 with 1 Axes>"
      ]
     },
     "metadata": {
      "needs_background": "light"
     },
     "output_type": "display_data"
    },
    {
     "data": {
      "image/png": "[encoded data removed]",
      "text/plain": [
       "<Figure size 432x288 with 1 Axes>"
      ]
     },
     "metadata": {
      "needs_background": "light"
     },
     "output_type": "display_data"
    },
    {
     "data": {
      "image/png": "[encoded data removed]",
      "text/plain": [
       "<Figure size 432x288 with 1 Axes>"
      ]
     },
     "metadata": {
      "needs_background": "light"
     },
     "output_type": "display_data"
    }
   ],
   "source": [
    "colors=[\"b\",\"r\",\"y\",\"g\",\"purple\"]\n",
    "for i in range(len(data.columns)):\n",
    "    plt.figure()                                                            #uncomment in order to plot histograms seperately   \n",
    "    sns.histplot(data[data.columns[i]], label=data.columns[i],color=colors[i])\n",
    "    plt.legend()\n",
    "plt.show()"
   ]
  },
  {
   "cell_type": "markdown",
   "id": "1daa4aa6-60b0-4de2-9a0b-09c8bf8468bd",
   "metadata": {},
   "source": [
    "we can see from the chart above that as the sample size grows, the distribution is more concentrated around the calculated value of the expected value\n",
    "but of course not normaly disributed"
   ]
  },
  {
   "cell_type": "markdown",
   "id": "0c5201ac-7a0c-4db0-b38a-5d4dd706dfe5",
   "metadata": {},
   "source": [
    "now a=0.9<1 hence, the expected value is infinity"
   ]
  },
  {
   "cell_type": "code",
   "execution_count": 20,
   "id": "4e318d16-5b24-47f5-b3d8-c0eb5eb724bc",
   "metadata": {},
   "outputs": [
    {
     "data": {
      "text/html": [
       "<div>\n",
       "<style scoped>\n",
       "    .dataframe tbody tr th:only-of-type {\n",
       "        vertical-align: middle;\n",
       "    }\n",
       "\n",
       "    .dataframe tbody tr th {\n",
       "        vertical-align: top;\n",
       "    }\n",
       "\n",
       "    .dataframe thead th {\n",
       "        text-align: right;\n",
       "    }\n",
       "</style>\n",
       "<table border=\"1\" class=\"dataframe\">\n",
       "  <thead>\n",
       "    <tr style=\"text-align: right;\">\n",
       "      <th></th>\n",
       "      <th>1</th>\n",
       "      <th>100</th>\n",
       "      <th>10000</th>\n",
       "      <th>1000000</th>\n",
       "      <th>100000000</th>\n",
       "    </tr>\n",
       "  </thead>\n",
       "  <tbody>\n",
       "    <tr>\n",
       "      <th>0</th>\n",
       "      <td>38.309140</td>\n",
       "      <td>169.607767</td>\n",
       "      <td>68.707860</td>\n",
       "      <td>152.030550</td>\n",
       "      <td>427.478382</td>\n",
       "    </tr>\n",
       "    <tr>\n",
       "      <th>1</th>\n",
       "      <td>9.115598</td>\n",
       "      <td>25.462576</td>\n",
       "      <td>77.651768</td>\n",
       "      <td>670.864509</td>\n",
       "      <td>253.403650</td>\n",
       "    </tr>\n",
       "    <tr>\n",
       "      <th>2</th>\n",
       "      <td>13.152541</td>\n",
       "      <td>45.377348</td>\n",
       "      <td>97.056603</td>\n",
       "      <td>191.998035</td>\n",
       "      <td>683.770073</td>\n",
       "    </tr>\n",
       "    <tr>\n",
       "      <th>3</th>\n",
       "      <td>21.737573</td>\n",
       "      <td>44.987801</td>\n",
       "      <td>144.107616</td>\n",
       "      <td>240.389248</td>\n",
       "      <td>334.142731</td>\n",
       "    </tr>\n",
       "    <tr>\n",
       "      <th>4</th>\n",
       "      <td>5.402738</td>\n",
       "      <td>51.105287</td>\n",
       "      <td>133.799114</td>\n",
       "      <td>249.430560</td>\n",
       "      <td>14022.230568</td>\n",
       "    </tr>\n",
       "  </tbody>\n",
       "</table>\n",
       "</div>"
      ],
      "text/plain": [
       "   1           100         10000       1000000       100000000\n",
       "0  38.309140  169.607767   68.707860  152.030550    427.478382\n",
       "1   9.115598   25.462576   77.651768  670.864509    253.403650\n",
       "2  13.152541   45.377348   97.056603  191.998035    683.770073\n",
       "3  21.737573   44.987801  144.107616  240.389248    334.142731\n",
       "4   5.402738   51.105287  133.799114  249.430560  14022.230568"
      ]
     },
     "execution_count": 20,
     "metadata": {},
     "output_type": "execute_result"
    }
   ],
   "source": [
    "a=0.9                             #setting alpha to 1.1\n",
    "N=[1,100,10000,1000000,100000000]\n",
    "sample_count=100\n",
    "data2=pd.DataFrame()              \n",
    "for sample_size in N:\n",
    "    temp_array=[]\n",
    "    for i in range(sample_count):\n",
    "        arr=(np.random.pareto(a, sample_size) + 1) * 5\n",
    "        temp_array.append(arr.sum()/len(arr))\n",
    "    data2[sample_size]=pd.Series(temp_array)\n",
    "data2.head()"
   ]
  },
  {
   "cell_type": "code",
   "execution_count": 27,
   "id": "14331716-7684-4c21-953f-636012ede09e",
   "metadata": {},
   "outputs": [
    {
     "data": {
      "image/png": "[encoded data removed]",
      "text/plain": [
       "<Figure size 432x288 with 1 Axes>"
      ]
     },
     "metadata": {
      "needs_background": "light"
     },
     "output_type": "display_data"
    }
   ],
   "source": [
    "colors=[\"b\",\"r\",\"y\",\"g\",\"purple\"]\n",
    "for i in range(len(data2.columns)):\n",
    "    #plt.figure()                                                            #uncomment in order to plot histograms seperately   \n",
    "    sns.histplot(data2[data2.columns[i]], label=data2.columns[i],color=colors[i])\n",
    "    plt.legend()\n",
    "plt.show()"
   ]
  },
  {
   "cell_type": "markdown",
   "id": "494536e7-87f6-4c34-97cb-0ba3367e3b72",
   "metadata": {},
   "source": [
    "as expected, the distributions does note concentrate around a specific value but varies more"
   ]
  }
 ],
 "metadata": {
  "kernelspec": {
   "display_name": "Python 3",
   "language": "python",
   "name": "python3"
  },
  "language_info": {
   "codemirror_mode": {
    "name": "ipython",
    "version": 3
   },
   "file_extension": ".py",
   "mimetype": "text/x-python",
   "name": "python",
   "nbconvert_exporter": "python",
   "pygments_lexer": "ipython3",
   "version": "3.8.8"
  }
 },
 "nbformat": 4,
 "nbformat_minor": 5
}
